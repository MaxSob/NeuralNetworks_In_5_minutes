{
 "cells": [
  {
   "cell_type": "markdown",
   "metadata": {},
   "source": [
    "# Exponentially decaying averages\n",
    "Exponentially decaying averages is an important concept that let us \"compress\" the average or past operations without the need to retain memory of the past operations. We can visualize this as a smoothing technique that help us to reduce noise when dealing with batchs of data.\n",
    "The basic form of an exponentialy decaying average is of the form:\n",
    "$$ v_t = \\beta v_{t} + (1 - \\beta) v_{t-1} $$\n",
    "Where $\\beta$ is a smoothing parameter that lets you define how much of the past sata you want to remember to make the smoothing.\n",
    "\n",
    "## Decaying average\n",
    "The decaying average is a technique that allows you to reduce noise in data. The behavior of this algorithm is governef by the $\\beta$ parameter such that:\n",
    "$$\n",
    "0 \\geq \\beta \\geq 1\n",
    "$$\n",
    "The closest $\\beta$ gets to 0 the smmothed applied average gets stronger. As well as $\\beta$ approaches to 1 the data gets less smoothed. "
   ]
  },
  {
   "cell_type": "markdown",
   "metadata": {},
   "source": [
    "To illustrate the effect of $\\beta$ parameter in weight decay, we will use a part of the dataset https://www.kaggle.com/sudalairajkumar/daily-temperature-of-major-cities?select=city_temperature.csv. In this version of the dataset we will use the temperatures of Madird in 1995."
   ]
  },
  {
   "cell_type": "code",
   "execution_count": 42,
   "metadata": {},
   "outputs": [],
   "source": [
    "import pandas as pd\n",
    "import numpy as np\n",
    "import matplotlib.pyplot as plt\n",
    "madrid = pd.read_csv('./Data/city_temperatures/madrid_1995.csv')"
   ]
  },
  {
   "cell_type": "code",
   "execution_count": 43,
   "metadata": {},
   "outputs": [
    {
     "data": {
      "text/html": [
       "<div>\n",
       "<style scoped>\n",
       "    .dataframe tbody tr th:only-of-type {\n",
       "        vertical-align: middle;\n",
       "    }\n",
       "\n",
       "    .dataframe tbody tr th {\n",
       "        vertical-align: top;\n",
       "    }\n",
       "\n",
       "    .dataframe thead th {\n",
       "        text-align: right;\n",
       "    }\n",
       "</style>\n",
       "<table border=\"1\" class=\"dataframe\">\n",
       "  <thead>\n",
       "    <tr style=\"text-align: right;\">\n",
       "      <th></th>\n",
       "      <th>Unnamed: 0</th>\n",
       "      <th>Region</th>\n",
       "      <th>Country</th>\n",
       "      <th>State</th>\n",
       "      <th>City</th>\n",
       "      <th>Month</th>\n",
       "      <th>Day</th>\n",
       "      <th>Year</th>\n",
       "      <th>AvgTemperature</th>\n",
       "    </tr>\n",
       "  </thead>\n",
       "  <tbody>\n",
       "    <tr>\n",
       "      <th>0</th>\n",
       "      <td>921973</td>\n",
       "      <td>Europe</td>\n",
       "      <td>Spain</td>\n",
       "      <td>NaN</td>\n",
       "      <td>Madrid</td>\n",
       "      <td>1</td>\n",
       "      <td>1</td>\n",
       "      <td>1995</td>\n",
       "      <td>45.9</td>\n",
       "    </tr>\n",
       "    <tr>\n",
       "      <th>1</th>\n",
       "      <td>921974</td>\n",
       "      <td>Europe</td>\n",
       "      <td>Spain</td>\n",
       "      <td>NaN</td>\n",
       "      <td>Madrid</td>\n",
       "      <td>1</td>\n",
       "      <td>2</td>\n",
       "      <td>1995</td>\n",
       "      <td>40.0</td>\n",
       "    </tr>\n",
       "    <tr>\n",
       "      <th>2</th>\n",
       "      <td>921975</td>\n",
       "      <td>Europe</td>\n",
       "      <td>Spain</td>\n",
       "      <td>NaN</td>\n",
       "      <td>Madrid</td>\n",
       "      <td>1</td>\n",
       "      <td>3</td>\n",
       "      <td>1995</td>\n",
       "      <td>34.1</td>\n",
       "    </tr>\n",
       "    <tr>\n",
       "      <th>3</th>\n",
       "      <td>921976</td>\n",
       "      <td>Europe</td>\n",
       "      <td>Spain</td>\n",
       "      <td>NaN</td>\n",
       "      <td>Madrid</td>\n",
       "      <td>1</td>\n",
       "      <td>4</td>\n",
       "      <td>1995</td>\n",
       "      <td>37.0</td>\n",
       "    </tr>\n",
       "    <tr>\n",
       "      <th>4</th>\n",
       "      <td>921977</td>\n",
       "      <td>Europe</td>\n",
       "      <td>Spain</td>\n",
       "      <td>NaN</td>\n",
       "      <td>Madrid</td>\n",
       "      <td>1</td>\n",
       "      <td>5</td>\n",
       "      <td>1995</td>\n",
       "      <td>43.1</td>\n",
       "    </tr>\n",
       "  </tbody>\n",
       "</table>\n",
       "</div>"
      ],
      "text/plain": [
       "   Unnamed: 0  Region Country  State    City  Month  Day  Year  AvgTemperature\n",
       "0      921973  Europe   Spain    NaN  Madrid      1    1  1995            45.9\n",
       "1      921974  Europe   Spain    NaN  Madrid      1    2  1995            40.0\n",
       "2      921975  Europe   Spain    NaN  Madrid      1    3  1995            34.1\n",
       "3      921976  Europe   Spain    NaN  Madrid      1    4  1995            37.0\n",
       "4      921977  Europe   Spain    NaN  Madrid      1    5  1995            43.1"
      ]
     },
     "execution_count": 43,
     "metadata": {},
     "output_type": "execute_result"
    }
   ],
   "source": [
    "madrid.head()"
   ]
  },
  {
   "cell_type": "code",
   "execution_count": 29,
   "metadata": {},
   "outputs": [],
   "source": [
    "temperature_sorted = madrid.sort_values(by=['Month', 'Day']).AvgTemperature.values"
   ]
  },
  {
   "cell_type": "markdown",
   "metadata": {},
   "source": [
    "## Decaying weights algorithm"
   ]
  },
  {
   "cell_type": "code",
   "execution_count": 30,
   "metadata": {},
   "outputs": [],
   "source": [
    "def getDecayingAverage(data, beta=0.9):\n",
    "    smoothed_values = []\n",
    "    v_previous = data[0]\n",
    "    for temperature in data[1:]:\n",
    "        smoothed_values.append(v_previous)\n",
    "        v_previous = beta*temperature + (1-beta)*v_previous\n",
    "    smoothed_values.append(v_previous)\n",
    "    return smoothed_values"
   ]
  },
  {
   "cell_type": "code",
   "execution_count": 39,
   "metadata": {},
   "outputs": [],
   "source": [
    "def plotFunctions(title, functions, x = None, savefile=None, ylim=(35, 100)):\n",
    "    if not x:\n",
    "        x = np.linspace(-5, 5, 300)\n",
    "    fig, ax = plt.subplots()\n",
    "    \n",
    "    legends = []\n",
    "    colors = ['b', 'g', 'r', 'c', 'm', 'y', 'k']\n",
    "    color_index = 0\n",
    "    for f in functions:\n",
    "        legends.append(\"y=\" + f[0])\n",
    "        y = f[1](x)\n",
    "        if(color_index == len(colors)):\n",
    "            color_index = 0\n",
    "        ax.plot(x,y,color=colors[color_index], alpha=0.5)\n",
    "        color_index += 1\n",
    "    ax.set(xlabel='Day', ylabel='Temperature', title=title)\n",
    "    plt.xlim([x[0],x[-1]])\n",
    "    plt.ylim([ylim[0], ylim[1]])\n",
    "    ax.legend(legends)\n",
    "    plt.grid(True)\n",
    "    \n",
    "    if savefile:\n",
    "        plt.savefig(savefile + '.png')\n",
    "    plt.show()"
   ]
  },
  {
   "cell_type": "code",
   "execution_count": 40,
   "metadata": {},
   "outputs": [],
   "source": [
    "smoothed_values_5 = getDecayingAverage(temperature_sorted, 0.5)\n",
    "smoothed_values_1 = getDecayingAverage(temperature_sorted, 0.1)\n",
    "r = lambda x: temperature_sorted\n",
    "beta_5 = lambda x: smoothed_values_5\n",
    "beta_1 = lambda x: smoothed_values_1"
   ]
  },
  {
   "cell_type": "code",
   "execution_count": 41,
   "metadata": {},
   "outputs": [
    {
     "data": {
      "image/png": "[encoded data removed]",
      "text/plain": [
       "<Figure size 432x288 with 1 Axes>"
      ]
     },
     "metadata": {
      "needs_background": "light"
     },
     "output_type": "display_data"
    }
   ],
   "source": [
    "plotFunctions(r'Temperature smoothed', [(r'Real temperature', r), (r'Weight decay $\\beta=0.5$', beta_5), (r'Weight decay $\\beta=0.1$', beta_1)], range(len(temperature_sorted)), \"smoothing\")"
   ]
  },
  {
   "cell_type": "code",
   "execution_count": null,
   "metadata": {},
   "outputs": [],
   "source": []
  }
 ],
 "metadata": {
  "kernelspec": {
   "display_name": "Python 3",
   "language": "python",
   "name": "python3"
  },
  "language_info": {
   "codemirror_mode": {
    "name": "ipython",
    "version": 3
   },
   "file_extension": ".py",
   "mimetype": "text/x-python",
   "name": "python",
   "nbconvert_exporter": "python",
   "pygments_lexer": "ipython3",
   "version": "3.8.3"
  }
 },
 "nbformat": 4,
 "nbformat_minor": 4
}
